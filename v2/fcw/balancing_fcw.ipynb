{
 "cells": [
  {
   "cell_type": "code",
   "execution_count": 1,
   "outputs": [],
   "source": [
    "import numpy as np\n",
    "import pandas as pd\n",
    "from collections import Counter\n",
    "from random import shuffle"
   ],
   "metadata": {
    "collapsed": false,
    "pycharm": {
     "name": "#%%\n"
    }
   }
  },
  {
   "cell_type": "code",
   "execution_count": 2,
   "outputs": [
    {
     "name": "stdout",
     "output_type": "stream",
     "text": [
      "Counter({'[0, 1]': 13850, '[1, 0]': 1208})\n"
     ]
    },
    {
     "data": {
      "text/plain": "                                                   0       1\n0  [[[223, 221, 218], [223, 221, 217], [223, 220,...  [0, 1]\n1  [[[222, 219, 215], [222, 219, 214], [222, 218,...  [0, 1]\n2  [[[221, 218, 213], [221, 217, 213], [221, 217,...  [0, 1]\n3  [[[221, 217, 213], [221, 217, 212], [221, 217,...  [0, 1]\n4  [[[223, 219, 214], [223, 219, 214], [223, 219,...  [0, 1]",
      "text/html": "<div>\n<style scoped>\n    .dataframe tbody tr th:only-of-type {\n        vertical-align: middle;\n    }\n\n    .dataframe tbody tr th {\n        vertical-align: top;\n    }\n\n    .dataframe thead th {\n        text-align: right;\n    }\n</style>\n<table border=\"1\" class=\"dataframe\">\n  <thead>\n    <tr style=\"text-align: right;\">\n      <th></th>\n      <th>0</th>\n      <th>1</th>\n    </tr>\n  </thead>\n  <tbody>\n    <tr>\n      <th>0</th>\n      <td>[[[223, 221, 218], [223, 221, 217], [223, 220,...</td>\n      <td>[0, 1]</td>\n    </tr>\n    <tr>\n      <th>1</th>\n      <td>[[[222, 219, 215], [222, 219, 214], [222, 218,...</td>\n      <td>[0, 1]</td>\n    </tr>\n    <tr>\n      <th>2</th>\n      <td>[[[221, 218, 213], [221, 217, 213], [221, 217,...</td>\n      <td>[0, 1]</td>\n    </tr>\n    <tr>\n      <th>3</th>\n      <td>[[[221, 217, 213], [221, 217, 212], [221, 217,...</td>\n      <td>[0, 1]</td>\n    </tr>\n    <tr>\n      <th>4</th>\n      <td>[[[223, 219, 214], [223, 219, 214], [223, 219,...</td>\n      <td>[0, 1]</td>\n    </tr>\n  </tbody>\n</table>\n</div>"
     },
     "execution_count": 2,
     "metadata": {},
     "output_type": "execute_result"
    }
   ],
   "source": [
    "train_data = np.load('fcw_data/training_data_fcw.npy', allow_pickle=True)\n",
    "\n",
    "df = pd.DataFrame(train_data)\n",
    "print(Counter(df[1].apply(str)))\n",
    "df.head()"
   ],
   "metadata": {
    "collapsed": false,
    "pycharm": {
     "name": "#%%\n"
    }
   }
  },
  {
   "cell_type": "code",
   "execution_count": 3,
   "outputs": [],
   "source": [
    "collision, no_collision =[], []\n",
    "shuffle(train_data)"
   ],
   "metadata": {
    "collapsed": false,
    "pycharm": {
     "name": "#%%\n"
    }
   }
  },
  {
   "cell_type": "code",
   "execution_count": 4,
   "outputs": [],
   "source": [
    "for data in train_data:\n",
    "    img = data[0]\n",
    "    choice = data[1]\n",
    "    # print(choice)\n",
    "    if choice == [1, 0]:\n",
    "        collision.append([img, choice])\n",
    "        # print(\"collision\")\n",
    "    else:\n",
    "        no_collision.append([img, choice])\n",
    "        # print(\"no collision\")"
   ],
   "metadata": {
    "collapsed": false,
    "pycharm": {
     "name": "#%%\n"
    }
   }
  },
  {
   "cell_type": "code",
   "execution_count": 5,
   "outputs": [
    {
     "data": {
      "text/plain": "<BarContainer object of 2 artists>"
     },
     "execution_count": 5,
     "metadata": {},
     "output_type": "execute_result"
    },
    {
     "data": {
      "text/plain": "<Figure size 640x480 with 1 Axes>",
      "image/png": "[encoded data removed]"
     },
     "metadata": {},
     "output_type": "display_data"
    }
   ],
   "source": [
    "import matplotlib.pyplot as plt\n",
    "plt.bar(['FCW active', 'No collision imminent'], [len(collision), len(no_collision)])"
   ],
   "metadata": {
    "collapsed": false,
    "pycharm": {
     "name": "#%%\n"
    }
   }
  },
  {
   "cell_type": "code",
   "execution_count": 6,
   "outputs": [],
   "source": [
    "collision = collision[:len(no_collision)]\n",
    "no_collision = no_collision[:len(collision)]"
   ],
   "metadata": {
    "collapsed": false,
    "pycharm": {
     "name": "#%%\n"
    }
   }
  },
  {
   "cell_type": "code",
   "execution_count": 7,
   "outputs": [
    {
     "data": {
      "text/plain": "<BarContainer object of 2 artists>"
     },
     "execution_count": 7,
     "metadata": {},
     "output_type": "execute_result"
    },
    {
     "data": {
      "text/plain": "<Figure size 640x480 with 1 Axes>",
      "image/png": "[encoded data removed]"
     },
     "metadata": {},
     "output_type": "display_data"
    }
   ],
   "source": [
    "#make a bar plot\n",
    "import matplotlib.pyplot as plt\n",
    "plt.bar(['FCW active', 'No collision imminent'], [len(collision), len(no_collision)])"
   ],
   "metadata": {
    "collapsed": false,
    "pycharm": {
     "name": "#%%\n"
    }
   }
  },
  {
   "cell_type": "code",
   "execution_count": 9,
   "outputs": [
    {
     "name": "stdout",
     "output_type": "stream",
     "text": [
      "3456\n",
      "[0, 1]\n"
     ]
    }
   ],
   "source": [
    "final_data = collision + no_collision\n",
    "shuffle(final_data)\n",
    "print(len(final_data))\n",
    "print(final_data[1][1])"
   ],
   "metadata": {
    "collapsed": false,
    "pycharm": {
     "name": "#%%\n"
    }
   }
  },
  {
   "cell_type": "code",
   "execution_count": 10,
   "outputs": [
    {
     "data": {
      "text/plain": "                                                   0       1\n0  [[[223, 213, 203], [223, 213, 202], [223, 213,...  [1, 0]\n1  [[[39, 48, 47], [36, 40, 35], [38, 35, 28], [4...  [0, 1]\n2  [[[221, 211, 202], [221, 211, 202], [221, 211,...  [1, 0]\n3  [[[221, 217, 213], [221, 217, 212], [221, 217,...  [0, 1]\n4  [[[214, 206, 198], [214, 206, 198], [214, 206,...  [0, 1]",
      "text/html": "<div>\n<style scoped>\n    .dataframe tbody tr th:only-of-type {\n        vertical-align: middle;\n    }\n\n    .dataframe tbody tr th {\n        vertical-align: top;\n    }\n\n    .dataframe thead th {\n        text-align: right;\n    }\n</style>\n<table border=\"1\" class=\"dataframe\">\n  <thead>\n    <tr style=\"text-align: right;\">\n      <th></th>\n      <th>0</th>\n      <th>1</th>\n    </tr>\n  </thead>\n  <tbody>\n    <tr>\n      <th>0</th>\n      <td>[[[223, 213, 203], [223, 213, 202], [223, 213,...</td>\n      <td>[1, 0]</td>\n    </tr>\n    <tr>\n      <th>1</th>\n      <td>[[[39, 48, 47], [36, 40, 35], [38, 35, 28], [4...</td>\n      <td>[0, 1]</td>\n    </tr>\n    <tr>\n      <th>2</th>\n      <td>[[[221, 211, 202], [221, 211, 202], [221, 211,...</td>\n      <td>[1, 0]</td>\n    </tr>\n    <tr>\n      <th>3</th>\n      <td>[[[221, 217, 213], [221, 217, 212], [221, 217,...</td>\n      <td>[0, 1]</td>\n    </tr>\n    <tr>\n      <th>4</th>\n      <td>[[[214, 206, 198], [214, 206, 198], [214, 206,...</td>\n      <td>[0, 1]</td>\n    </tr>\n  </tbody>\n</table>\n</div>"
     },
     "execution_count": 10,
     "metadata": {},
     "output_type": "execute_result"
    }
   ],
   "source": [
    "new_df = pd.DataFrame(final_data)\n",
    "new_df.head()"
   ],
   "metadata": {
    "collapsed": false,
    "pycharm": {
     "name": "#%%\n"
    }
   }
  },
  {
   "cell_type": "code",
   "execution_count": 12,
   "outputs": [],
   "source": [
    "new_df.to_csv(\"fcw_data/newdf.csv\")"
   ],
   "metadata": {
    "collapsed": false,
    "pycharm": {
     "name": "#%%\n"
    }
   }
  },
  {
   "cell_type": "code",
   "execution_count": 13,
   "outputs": [
    {
     "name": "stdout",
     "output_type": "stream",
     "text": [
      "Counter({'[1, 0]': 1728, '[0, 1]': 1728})\n"
     ]
    }
   ],
   "source": [
    "print(Counter(new_df[1].apply(str)))"
   ],
   "metadata": {
    "collapsed": false,
    "pycharm": {
     "name": "#%%\n"
    }
   }
  },
  {
   "cell_type": "code",
   "execution_count": 14,
   "outputs": [],
   "source": [
    "dfnp = new_df.to_numpy()\n",
    "np.save('fcw_data/balanced_new.npy', dfnp)"
   ],
   "metadata": {
    "collapsed": false,
    "pycharm": {
     "name": "#%%\n"
    }
   }
  }
 ],
 "metadata": {
  "kernelspec": {
   "display_name": "Python 3",
   "language": "python",
   "name": "python3"
  },
  "language_info": {
   "codemirror_mode": {
    "name": "ipython",
    "version": 2
   },
   "file_extension": ".py",
   "mimetype": "text/x-python",
   "name": "python",
   "nbconvert_exporter": "python",
   "pygments_lexer": "ipython2",
   "version": "2.7.6"
  }
 },
 "nbformat": 4,
 "nbformat_minor": 0
}