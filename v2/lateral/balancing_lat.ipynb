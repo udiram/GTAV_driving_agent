{
 "cells": [
  {
   "cell_type": "code",
   "execution_count": 1,
   "outputs": [],
   "source": [
    "import numpy as np\n",
    "import pandas as pd\n",
    "from collections import Counter\n",
    "from random import shuffle"
   ],
   "metadata": {
    "collapsed": false,
    "pycharm": {
     "name": "#%%\n"
    }
   }
  },
  {
   "cell_type": "code",
   "execution_count": 2,
   "outputs": [
    {
     "name": "stdout",
     "output_type": "stream",
     "text": [
      "Counter({'[0, 0, 1]': 16506, '[1, 0, 0]': 778, '[0, 1, 0]': 279})\n"
     ]
    },
    {
     "data": {
      "text/plain": "                                                   0          1\n0  [[[65, 63, 60], [65, 63, 60], [65, 63, 60], [6...  [0, 0, 1]\n1  [[[65, 63, 60], [65, 63, 60], [65, 63, 60], [6...  [0, 0, 1]\n2  [[[65, 63, 60], [65, 63, 60], [65, 63, 60], [6...  [0, 0, 1]\n3  [[[65, 63, 60], [65, 63, 60], [65, 63, 60], [6...  [0, 0, 1]\n4  [[[65, 63, 60], [65, 63, 60], [65, 63, 60], [6...  [0, 0, 1]",
      "text/html": "<div>\n<style scoped>\n    .dataframe tbody tr th:only-of-type {\n        vertical-align: middle;\n    }\n\n    .dataframe tbody tr th {\n        vertical-align: top;\n    }\n\n    .dataframe thead th {\n        text-align: right;\n    }\n</style>\n<table border=\"1\" class=\"dataframe\">\n  <thead>\n    <tr style=\"text-align: right;\">\n      <th></th>\n      <th>0</th>\n      <th>1</th>\n    </tr>\n  </thead>\n  <tbody>\n    <tr>\n      <th>0</th>\n      <td>[[[65, 63, 60], [65, 63, 60], [65, 63, 60], [6...</td>\n      <td>[0, 0, 1]</td>\n    </tr>\n    <tr>\n      <th>1</th>\n      <td>[[[65, 63, 60], [65, 63, 60], [65, 63, 60], [6...</td>\n      <td>[0, 0, 1]</td>\n    </tr>\n    <tr>\n      <th>2</th>\n      <td>[[[65, 63, 60], [65, 63, 60], [65, 63, 60], [6...</td>\n      <td>[0, 0, 1]</td>\n    </tr>\n    <tr>\n      <th>3</th>\n      <td>[[[65, 63, 60], [65, 63, 60], [65, 63, 60], [6...</td>\n      <td>[0, 0, 1]</td>\n    </tr>\n    <tr>\n      <th>4</th>\n      <td>[[[65, 63, 60], [65, 63, 60], [65, 63, 60], [6...</td>\n      <td>[0, 0, 1]</td>\n    </tr>\n  </tbody>\n</table>\n</div>"
     },
     "execution_count": 2,
     "metadata": {},
     "output_type": "execute_result"
    }
   ],
   "source": [
    "train_data = np.load('lat_data/training_data_lat.npy', allow_pickle=True)\n",
    "\n",
    "df = pd.DataFrame(train_data)\n",
    "print(Counter(df[1].apply(str)))\n",
    "df.head()"
   ],
   "metadata": {
    "collapsed": false,
    "pycharm": {
     "name": "#%%\n"
    }
   }
  },
  {
   "cell_type": "code",
   "execution_count": 3,
   "outputs": [],
   "source": [
    "A, D, NK = [], [], []\n",
    "shuffle(train_data)"
   ],
   "metadata": {
    "collapsed": false,
    "pycharm": {
     "name": "#%%\n"
    }
   }
  },
  {
   "cell_type": "code",
   "execution_count": 4,
   "outputs": [],
   "source": [
    "for data in train_data:\n",
    "    img = data[0]\n",
    "    choice = data[1]\n",
    "    # print(choice)\n",
    "    if choice == [1, 0, 0]:\n",
    "        A.append([img, choice])\n",
    "        # print(\"A\")\n",
    "    elif choice == [0, 1, 0]:\n",
    "        D.append([img, choice])\n",
    "        # print(\"D\")\n",
    "    else:\n",
    "        NK.append([img, choice])\n",
    "        # print(\"NK\")"
   ],
   "metadata": {
    "collapsed": false,
    "pycharm": {
     "name": "#%%\n"
    }
   }
  },
  {
   "cell_type": "code",
   "execution_count": 5,
   "outputs": [
    {
     "data": {
      "text/plain": "<BarContainer object of 3 artists>"
     },
     "execution_count": 5,
     "metadata": {},
     "output_type": "execute_result"
    },
    {
     "data": {
      "text/plain": "<Figure size 640x480 with 1 Axes>",
      "image/png": "[encoded data removed]"
     },
     "metadata": {},
     "output_type": "display_data"
    }
   ],
   "source": [
    "import matplotlib.pyplot as plt\n",
    "plt.bar(['Left turn', 'Right turn', 'No input'], [len(A), len(D), len(NK)])"
   ],
   "metadata": {
    "collapsed": false,
    "pycharm": {
     "name": "#%%\n"
    }
   }
  },
  {
   "cell_type": "code",
   "execution_count": 6,
   "outputs": [],
   "source": [
    "A = A[:len(D)][:len(NK)]\n",
    "D = D[:len(A)][:len(NK)]\n",
    "NK = NK[:len(A)][:len(D)]"
   ],
   "metadata": {
    "collapsed": false,
    "pycharm": {
     "name": "#%%\n"
    }
   }
  },
  {
   "cell_type": "code",
   "execution_count": 7,
   "outputs": [
    {
     "data": {
      "text/plain": "<BarContainer object of 3 artists>"
     },
     "execution_count": 7,
     "metadata": {},
     "output_type": "execute_result"
    },
    {
     "data": {
      "text/plain": "<Figure size 640x480 with 1 Axes>",
      "image/png": "[encoded data removed]"
     },
     "metadata": {},
     "output_type": "display_data"
    }
   ],
   "source": [
    "#make a bar plot\n",
    "import matplotlib.pyplot as plt\n",
    "plt.bar(['Left turn', 'Right turn', 'No input'], [len(A), len(D), len(NK)])"
   ],
   "metadata": {
    "collapsed": false,
    "pycharm": {
     "name": "#%%\n"
    }
   }
  },
  {
   "cell_type": "code",
   "execution_count": 22,
   "outputs": [
    {
     "name": "stdout",
     "output_type": "stream",
     "text": [
      "633\n",
      "[0, 1, 0]\n"
     ]
    }
   ],
   "source": [
    "final_data = A + D + NK\n",
    "shuffle(final_data)\n",
    "print(len(final_data))\n",
    "print(final_data[1][1])"
   ],
   "metadata": {
    "collapsed": false,
    "pycharm": {
     "name": "#%%\n"
    }
   }
  },
  {
   "cell_type": "code",
   "execution_count": 23,
   "outputs": [
    {
     "data": {
      "text/plain": "                                                   0          1\n0  [[[65, 63, 60], [65, 63, 60], [65, 63, 60], [6...  [0, 1, 0]\n1  [[[65, 63, 60], [65, 63, 60], [65, 63, 60], [6...  [0, 1, 0]\n2  [[[65, 63, 60], [65, 63, 60], [65, 63, 60], [6...  [0, 1, 0]\n3  [[[65, 63, 60], [65, 63, 60], [65, 63, 60], [6...  [0, 0, 1]\n4  [[[65, 63, 60], [65, 63, 60], [65, 63, 60], [6...  [0, 0, 1]",
      "text/html": "<div>\n<style scoped>\n    .dataframe tbody tr th:only-of-type {\n        vertical-align: middle;\n    }\n\n    .dataframe tbody tr th {\n        vertical-align: top;\n    }\n\n    .dataframe thead th {\n        text-align: right;\n    }\n</style>\n<table border=\"1\" class=\"dataframe\">\n  <thead>\n    <tr style=\"text-align: right;\">\n      <th></th>\n      <th>0</th>\n      <th>1</th>\n    </tr>\n  </thead>\n  <tbody>\n    <tr>\n      <th>0</th>\n      <td>[[[65, 63, 60], [65, 63, 60], [65, 63, 60], [6...</td>\n      <td>[0, 1, 0]</td>\n    </tr>\n    <tr>\n      <th>1</th>\n      <td>[[[65, 63, 60], [65, 63, 60], [65, 63, 60], [6...</td>\n      <td>[0, 1, 0]</td>\n    </tr>\n    <tr>\n      <th>2</th>\n      <td>[[[65, 63, 60], [65, 63, 60], [65, 63, 60], [6...</td>\n      <td>[0, 1, 0]</td>\n    </tr>\n    <tr>\n      <th>3</th>\n      <td>[[[65, 63, 60], [65, 63, 60], [65, 63, 60], [6...</td>\n      <td>[0, 0, 1]</td>\n    </tr>\n    <tr>\n      <th>4</th>\n      <td>[[[65, 63, 60], [65, 63, 60], [65, 63, 60], [6...</td>\n      <td>[0, 0, 1]</td>\n    </tr>\n  </tbody>\n</table>\n</div>"
     },
     "execution_count": 23,
     "metadata": {},
     "output_type": "execute_result"
    }
   ],
   "source": [
    "new_df = pd.DataFrame(final_data)\n",
    "new_df.head()"
   ],
   "metadata": {
    "collapsed": false,
    "pycharm": {
     "name": "#%%\n"
    }
   }
  },
  {
   "cell_type": "code",
   "execution_count": 24,
   "outputs": [],
   "source": [
    "new_df.to_csv(\"lat_data/newdf.csv\")"
   ],
   "metadata": {
    "collapsed": false,
    "pycharm": {
     "name": "#%%\n"
    }
   }
  },
  {
   "cell_type": "code",
   "execution_count": 25,
   "outputs": [
    {
     "name": "stdout",
     "output_type": "stream",
     "text": [
      "Counter({'[0, 1, 0]': 211, '[0, 0, 1]': 211, '[1, 0, 0]': 211})\n"
     ]
    }
   ],
   "source": [
    "print(Counter(new_df[1].apply(str)))"
   ],
   "metadata": {
    "collapsed": false,
    "pycharm": {
     "name": "#%%\n"
    }
   }
  },
  {
   "cell_type": "code",
   "execution_count": 26,
   "outputs": [],
   "source": [
    "dfnp = new_df.to_numpy()\n",
    "np.save('lat_data/balanced_new.npy', dfnp)"
   ],
   "metadata": {
    "collapsed": false,
    "pycharm": {
     "name": "#%%\n"
    }
   }
  }
 ],
 "metadata": {
  "kernelspec": {
   "display_name": "Python 3",
   "language": "python",
   "name": "python3"
  },
  "language_info": {
   "codemirror_mode": {
    "name": "ipython",
    "version": 2
   },
   "file_extension": ".py",
   "mimetype": "text/x-python",
   "name": "python",
   "nbconvert_exporter": "python",
   "pygments_lexer": "ipython2",
   "version": "2.7.6"
  }
 },
 "nbformat": 4,
 "nbformat_minor": 0
}