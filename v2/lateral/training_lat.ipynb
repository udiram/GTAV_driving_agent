{
 "cells": [
  {
   "cell_type": "code",
   "execution_count": 3,
   "outputs": [],
   "source": [
    "import os, cv2\n",
    "import pandas as pd\n",
    "import numpy as np\n",
    "from v2.utils.screen_grab import grab_screen\n",
    "from tqdm import tqdm\n",
    "from collections import deque\n",
    "from v2.models.models import inception_v3 as googlenet\n",
    "from random import shuffle"
   ],
   "metadata": {
    "collapsed": false,
    "pycharm": {
     "name": "#%%\n"
    }
   }
  },
  {
   "cell_type": "code",
   "execution_count": 4,
   "outputs": [],
   "source": [
    "FILE_I_END = 21\n",
    "\n",
    "WIDTH = 480\n",
    "HEIGHT = 270\n",
    "LR = 1e-3\n",
    "EPOCHS = 30\n",
    "\n",
    "MODEL_NAME = 'googlenet_selfdrivev1_lateral'\n",
    "PREV_MODEL = ''\n",
    "LOAD_MODEL = True"
   ],
   "metadata": {
    "collapsed": false,
    "pycharm": {
     "name": "#%%\n"
    }
   }
  },
  {
   "cell_type": "code",
   "execution_count": 5,
   "outputs": [
    {
     "name": "stdout",
     "output_type": "stream",
     "text": [
      "WARNING:tensorflow:From C:\\Users\\sathy\\OneDrive\\Documents\\GitHub\\GTAV_driving_agent\\venv\\lib\\site-packages\\tflearn\\initializations.py:110: calling UniformUnitScaling.__init__ (from tensorflow.python.ops.init_ops) with dtype is deprecated and will be removed in a future version.\n",
      "Instructions for updating:\n",
      "Call initializer instance with the dtype argument instead of passing it to the constructor\n",
      "WARNING:tensorflow:From C:\\Users\\sathy\\OneDrive\\Documents\\GitHub\\GTAV_driving_agent\\venv\\lib\\site-packages\\tensorflow\\python\\util\\deprecation.py:561: UniformUnitScaling.__init__ (from tensorflow.python.ops.init_ops) is deprecated and will be removed in a future version.\n",
      "Instructions for updating:\n",
      "Use tf.initializers.variance_scaling instead with distribution=uniform to get equivalent behavior.\n",
      "WARNING:tensorflow:From C:\\Users\\sathy\\OneDrive\\Documents\\GitHub\\GTAV_driving_agent\\venv\\lib\\site-packages\\tensorflow\\python\\util\\dispatch.py:1176: calling dropout (from tensorflow.python.ops.nn_ops) with keep_prob is deprecated and will be removed in a future version.\n",
      "Instructions for updating:\n",
      "Please use `rate` instead of `keep_prob`. Rate should be set to `rate = 1 - keep_prob`.\n",
      "WARNING:tensorflow:From C:\\Users\\sathy\\OneDrive\\Documents\\GitHub\\GTAV_driving_agent\\venv\\lib\\site-packages\\tflearn\\initializations.py:164: calling TruncatedNormal.__init__ (from tensorflow.python.ops.init_ops) with dtype is deprecated and will be removed in a future version.\n",
      "Instructions for updating:\n",
      "Call initializer instance with the dtype argument instead of passing it to the constructor\n"
     ]
    }
   ],
   "source": [
    "model = googlenet(WIDTH, HEIGHT, 3, LR, output=3, model_name=MODEL_NAME)"
   ],
   "metadata": {
    "collapsed": false,
    "pycharm": {
     "name": "#%%\n"
    }
   }
  },
  {
   "cell_type": "code",
   "execution_count": 6,
   "outputs": [],
   "source": [
    "# print(np.load('data/training_data-1058.npy', allow_pickle=True))"
   ],
   "metadata": {
    "collapsed": false,
    "pycharm": {
     "name": "#%%\n"
    }
   }
  },
  {
   "cell_type": "code",
   "execution_count": 7,
   "outputs": [
    {
     "name": "stdout",
     "output_type": "stream",
     "text": [
      "Training Step: 299  | total loss: \u001B[1m\u001B[32m0.34358\u001B[0m\u001B[0m | time: 7.646s\n",
      "| Momentum | epoch: 030 | loss: 0.34358 - acc: 0.8584 -- iter: 576/583\n",
      "Training Step: 300  | total loss: \u001B[1m\u001B[32m0.35035\u001B[0m\u001B[0m | time: 8.766s\n",
      "| Momentum | epoch: 030 | loss: 0.35035 - acc: 0.8538 | val_loss: 0.22209 - val_acc: 0.9200 -- iter: 583/583\n",
      "--\n"
     ]
    }
   ],
   "source": [
    "for e in range(EPOCHS):\n",
    "    try:\n",
    "        file_name = 'lat_data/balanced_new.npy'\n",
    "        # full file info\n",
    "        train_data = np.load(file_name, allow_pickle=True)\n",
    "        print('data/balanced_new.npy', len(train_data))\n",
    "\n",
    "\n",
    "        train = train_data[:-50]\n",
    "        test = train_data[-50:]\n",
    "\n",
    "        X = np.array([i[0] for i in train]).reshape(-1, WIDTH, HEIGHT, 3)\n",
    "        Y = [i[1] for i in train]\n",
    "\n",
    "        test_x = np.array([i[0] for i in test]).reshape(-1, WIDTH, HEIGHT, 3)\n",
    "        test_y = [i[1] for i in test]\n",
    "\n",
    "        model.fit({'input': X}, {'targets': Y}, n_epoch = 1, validation_set = ({'input': test_x}, {'targets': test_y}),\n",
    "            snapshot_step = 2500, show_metric = True, run_id = MODEL_NAME)\n",
    "\n",
    "        if e % 5 == 0:\n",
    "            model.save(MODEL_NAME)\n",
    "\n",
    "    except Exception as e:\n",
    "        print(e)"
   ],
   "metadata": {
    "collapsed": false,
    "pycharm": {
     "name": "#%%\n"
    }
   }
  }
 ],
 "metadata": {
  "kernelspec": {
   "display_name": "Python 3",
   "language": "python",
   "name": "python3"
  },
  "language_info": {
   "codemirror_mode": {
    "name": "ipython",
    "version": 2
   },
   "file_extension": ".py",
   "mimetype": "text/x-python",
   "name": "python",
   "nbconvert_exporter": "python",
   "pygments_lexer": "ipython2",
   "version": "2.7.6"
  }
 },
 "nbformat": 4,
 "nbformat_minor": 0
}